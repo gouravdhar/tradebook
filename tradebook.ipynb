{
 "cells": [
  {
   "cell_type": "code",
   "execution_count": 1,
   "metadata": {},
   "outputs": [],
   "source": [
    "import csv"
   ]
  },
  {
   "cell_type": "code",
   "execution_count": 80,
   "metadata": {},
   "outputs": [
    {
     "name": "stdout",
     "output_type": "stream",
     "text": [
      "Processed 100 lines.\n",
      "Your tradebook\n",
      "WIPRO -> 1836.7989999999954\n",
      "RAMCEM -> -1448.5072999999993\n",
      "BATIND -> -6883.930300000001\n",
      "TATGLO -> -7068.4043\n",
      "BERPAI -> -7055.0041\n",
      "TCS -> 1804.0752000000043\n",
      "ULTCEM -> 964.0124000000005\n",
      "BHADYN -> 9.963500000000423\n",
      "LARTOU -> 864.5664000000032\n",
      "RELIND -> 1278.1454999999858\n",
      "AXIBAN -> 2007.741500000003\n",
      "TITIND -> 539.5861999999765\n",
      "STABAN -> 375.40130000000005\n",
      "HDFBAN -> -45215.3706\n",
      "ASIPAI -> -49889.39890000001\n",
      "TRENT -> -4912.0573\n",
      "SANOFI -> -98.63000000000245\n",
      "ICIBAN -> 152.7181\n",
      "INDRAI -> -5424.8286\n",
      "MAHMAH -> -6136.7542\n",
      "MAHFIN -> 39.46219999999977\n",
      "ICINIF -> -364.0577\n",
      "TATSTE -> -124.99509999999992\n",
      "MCLRUS -> -175.2478000000001\n",
      "HERHON -> -55.32190000000065\n",
      "EICMOT -> -40.24479999999889\n",
      "MARUTI -> -52.330299999999696\n",
      "GAIL -> -71.86639999999991\n",
      "NTPC -> -34.692099999999655\n",
      "DLFLIM -> -105.25550000000024\n",
      "TV18BR -> -139.48029999999994\n",
      "PUNBAN -> -87.4244\n",
      "TATMOT -> -72.53530000000009\n",
      "POWGRI -> -40.63929999999979\n",
      "SUNPHA -> -30.811100000000756\n",
      "ZEEENT -> -35.799400000000034\n",
      "Net =  -125691.11570000005\n"
     ]
    }
   ],
   "source": [
    "dict ={}\n",
    "with open('TradeBook.csv') as csv_file:\n",
    "    csv_reader = csv.reader(csv_file, delimiter=',')\n",
    "    collumn = 0\n",
    "    for row in csv_reader:\n",
    "        if collumn == 0:\n",
    "#             print(f'Column names are {\", \".join(row)}')\n",
    "#             print(row[2],row[5],row[15])\n",
    "            collumn += 1\n",
    "        else:\n",
    "            if row[1] in dict:\n",
    "                if row[2]==\"Buy\":\n",
    "#                     print(\"Buy\")\n",
    "                    dict[row[1]] = dict[row[1]] - float(row[5]) - float(row[15])\n",
    "                else :\n",
    "#                     print(\"Sell\")\n",
    "                    dict[row[1]] = dict[row[1]] + float(row[5]) - float(row[15])\n",
    "            else:\n",
    "                if row[2]==\"Buy\":\n",
    "                    dict[row[1]]= -1*float(row[5]) - float(row[15])\n",
    "                else:\n",
    "#                     print(\"Sell\")\n",
    "                    dict[row[1]]= float(row[5]) - float(row[15])\n",
    "            collumn += 1\n",
    "    print(f'Processed {collumn} lines.')\n",
    "    print(\"Your tradebook\")\n",
    "    net=0\n",
    "    for i in dict:\n",
    "        net+=dict[i]\n",
    "        print(i,\"->\", dict[i])\n",
    "    print(\"Net = \",net)\n",
    "    "
   ]
  },
  {
   "cell_type": "code",
   "execution_count": null,
   "metadata": {},
   "outputs": [],
   "source": []
  }
 ],
 "metadata": {
  "kernelspec": {
   "display_name": "Python 3",
   "language": "python",
   "name": "python3"
  },
  "language_info": {
   "codemirror_mode": {
    "name": "ipython",
    "version": 3
   },
   "file_extension": ".py",
   "mimetype": "text/x-python",
   "name": "python",
   "nbconvert_exporter": "python",
   "pygments_lexer": "ipython3",
   "version": "3.8.0"
  }
 },
 "nbformat": 4,
 "nbformat_minor": 2
}
